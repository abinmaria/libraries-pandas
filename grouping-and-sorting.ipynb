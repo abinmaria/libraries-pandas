{
 "cells": [
  {
   "cell_type": "markdown",
   "id": "15160c2f",
   "metadata": {
    "papermill": {
     "duration": 0.006198,
     "end_time": "2024-04-17T16:56:39.555848",
     "exception": false,
     "start_time": "2024-04-17T16:56:39.549650",
     "status": "completed"
    },
    "tags": []
   },
   "source": [
    "**This notebook is an exercise in the [Pandas](https://www.kaggle.com/learn/pandas) course.  You can reference the tutorial at [this link](https://www.kaggle.com/residentmario/grouping-and-sorting).**\n",
    "\n",
    "---\n"
   ]
  },
  {
   "cell_type": "markdown",
   "id": "d712a348",
   "metadata": {
    "papermill": {
     "duration": 0.005291,
     "end_time": "2024-04-17T16:56:39.567345",
     "exception": false,
     "start_time": "2024-04-17T16:56:39.562054",
     "status": "completed"
    },
    "tags": []
   },
   "source": [
    "# Introduction\n",
    "\n",
    "In these exercises we'll apply groupwise analysis to our dataset.\n",
    "\n",
    "Run the code cell below to load the data before running the exercises."
   ]
  },
  {
   "cell_type": "code",
   "execution_count": 1,
   "id": "78da5c08",
   "metadata": {
    "execution": {
     "iopub.execute_input": "2024-04-17T16:56:39.580377Z",
     "iopub.status.busy": "2024-04-17T16:56:39.579928Z",
     "iopub.status.idle": "2024-04-17T16:56:43.546029Z",
     "shell.execute_reply": "2024-04-17T16:56:43.544822Z"
    },
    "papermill": {
     "duration": 3.975894,
     "end_time": "2024-04-17T16:56:43.548774",
     "exception": false,
     "start_time": "2024-04-17T16:56:39.572880",
     "status": "completed"
    },
    "tags": []
   },
   "outputs": [
    {
     "name": "stdout",
     "output_type": "stream",
     "text": [
      "Setup complete.\n"
     ]
    },
    {
     "name": "stderr",
     "output_type": "stream",
     "text": [
      "/opt/conda/lib/python3.10/site-packages/learntools/pandas/grouping_and_sorting.py:29: FutureWarning: The provided callable <built-in function min> is currently using SeriesGroupBy.min. In a future version of pandas, the provided callable will be used directly. To keep current behavior pass the string \"min\" instead.\n",
      "  _expected = reviews.groupby('variety').price.agg([min, max])\n",
      "/opt/conda/lib/python3.10/site-packages/learntools/pandas/grouping_and_sorting.py:29: FutureWarning: The provided callable <built-in function max> is currently using SeriesGroupBy.max. In a future version of pandas, the provided callable will be used directly. To keep current behavior pass the string \"max\" instead.\n",
      "  _expected = reviews.groupby('variety').price.agg([min, max])\n",
      "/opt/conda/lib/python3.10/site-packages/learntools/pandas/grouping_and_sorting.py:35: FutureWarning: The provided callable <built-in function min> is currently using SeriesGroupBy.min. In a future version of pandas, the provided callable will be used directly. To keep current behavior pass the string \"min\" instead.\n",
      "  _expected = reviews.groupby('variety').price.agg([min, max]).sort_values(by=['min', 'max'], ascending=False)\n",
      "/opt/conda/lib/python3.10/site-packages/learntools/pandas/grouping_and_sorting.py:35: FutureWarning: The provided callable <built-in function max> is currently using SeriesGroupBy.max. In a future version of pandas, the provided callable will be used directly. To keep current behavior pass the string \"max\" instead.\n",
      "  _expected = reviews.groupby('variety').price.agg([min, max]).sort_values(by=['min', 'max'], ascending=False)\n"
     ]
    }
   ],
   "source": [
    "import pandas as pd\n",
    "\n",
    "reviews = pd.read_csv(\"../input/wine-reviews/winemag-data-130k-v2.csv\", index_col=0)\n",
    "#pd.set_option(\"display.max_rows\", 5)\n",
    "\n",
    "from learntools.core import binder; binder.bind(globals())\n",
    "from learntools.pandas.grouping_and_sorting import *\n",
    "print(\"Setup complete.\")"
   ]
  },
  {
   "cell_type": "markdown",
   "id": "7c2bb4fa",
   "metadata": {
    "papermill": {
     "duration": 0.005499,
     "end_time": "2024-04-17T16:56:43.559951",
     "exception": false,
     "start_time": "2024-04-17T16:56:43.554452",
     "status": "completed"
    },
    "tags": []
   },
   "source": [
    "# Exercises"
   ]
  },
  {
   "cell_type": "markdown",
   "id": "0cf2131a",
   "metadata": {
    "papermill": {
     "duration": 0.005267,
     "end_time": "2024-04-17T16:56:43.570710",
     "exception": false,
     "start_time": "2024-04-17T16:56:43.565443",
     "status": "completed"
    },
    "tags": []
   },
   "source": [
    "## 1.\n",
    "Who are the most common wine reviewers in the dataset? Create a `Series` whose index is the `taster_twitter_handle` category from the dataset, and whose values count how many reviews each person wrote."
   ]
  },
  {
   "cell_type": "code",
   "execution_count": 2,
   "id": "c5a632e5",
   "metadata": {
    "execution": {
     "iopub.execute_input": "2024-04-17T16:56:43.583598Z",
     "iopub.status.busy": "2024-04-17T16:56:43.583191Z",
     "iopub.status.idle": "2024-04-17T16:56:44.760431Z",
     "shell.execute_reply": "2024-04-17T16:56:44.759031Z"
    },
    "papermill": {
     "duration": 1.186542,
     "end_time": "2024-04-17T16:56:44.762676",
     "exception": false,
     "start_time": "2024-04-17T16:56:43.576134",
     "status": "completed"
    },
    "tags": []
   },
   "outputs": [
    {
     "name": "stdout",
     "output_type": "stream",
     "text": [
      "taster_twitter_handle\n",
      "@vossroger          25514\n",
      "@wineschach         15134\n",
      "@kerinokeefe        10776\n",
      "@vboone              9537\n",
      "@paulgwine           9532\n",
      "@mattkettmann        6332\n",
      "@JoeCz               5147\n",
      "@wawinereport        4966\n",
      "@gordone_cellars     4177\n",
      "@AnneInVino          3685\n",
      "@laurbuzz            1835\n",
      "@suskostrzewa        1085\n",
      "@worldwineguys       1005\n",
      "@bkfiona               27\n",
      "@winewchristina         6\n",
      "Name: count, dtype: int64\n"
     ]
    }
   ],
   "source": [
    "import pandas as pd\n",
    "\n",
    "reviews = pd.read_csv(\"../input/wine-reviews/winemag-data-130k-v2.csv\", index_col=0)\n",
    "reviews_written = reviews['taster_twitter_handle'].value_counts().dropna()  \n",
    "\n",
    "print(reviews_written)\n"
   ]
  },
  {
   "cell_type": "code",
   "execution_count": 3,
   "id": "1bbf6d17",
   "metadata": {
    "execution": {
     "iopub.execute_input": "2024-04-17T16:56:44.776485Z",
     "iopub.status.busy": "2024-04-17T16:56:44.776105Z",
     "iopub.status.idle": "2024-04-17T16:56:44.780316Z",
     "shell.execute_reply": "2024-04-17T16:56:44.779310Z"
    },
    "papermill": {
     "duration": 0.013625,
     "end_time": "2024-04-17T16:56:44.782370",
     "exception": false,
     "start_time": "2024-04-17T16:56:44.768745",
     "status": "completed"
    },
    "tags": []
   },
   "outputs": [],
   "source": [
    "#q1.hint()\n",
    "#q1.solution()"
   ]
  },
  {
   "cell_type": "markdown",
   "id": "e3d29dd2",
   "metadata": {
    "papermill": {
     "duration": 0.005553,
     "end_time": "2024-04-17T16:56:44.793767",
     "exception": false,
     "start_time": "2024-04-17T16:56:44.788214",
     "status": "completed"
    },
    "tags": []
   },
   "source": [
    "## 2.\n",
    "What is the best wine I can buy for a given amount of money? Create a `Series` whose index is wine prices and whose values is the maximum number of points a wine costing that much was given in a review. Sort the values by price, ascending (so that `4.0` dollars is at the top and `3300.0` dollars is at the bottom)."
   ]
  },
  {
   "cell_type": "code",
   "execution_count": 4,
   "id": "b2515c9a",
   "metadata": {
    "execution": {
     "iopub.execute_input": "2024-04-17T16:56:44.806953Z",
     "iopub.status.busy": "2024-04-17T16:56:44.806190Z",
     "iopub.status.idle": "2024-04-17T16:56:45.975604Z",
     "shell.execute_reply": "2024-04-17T16:56:45.974522Z"
    },
    "papermill": {
     "duration": 1.178327,
     "end_time": "2024-04-17T16:56:45.977746",
     "exception": false,
     "start_time": "2024-04-17T16:56:44.799419",
     "status": "completed"
    },
    "tags": []
   },
   "outputs": [
    {
     "name": "stdout",
     "output_type": "stream",
     "text": [
      "price\n",
      "4.0        86\n",
      "5.0        87\n",
      "790.0      87\n",
      "181.0      88\n",
      "3300.0     88\n",
      "         ... \n",
      "617.0     100\n",
      "450.0     100\n",
      "650.0     100\n",
      "460.0     100\n",
      "150.0     100\n",
      "Name: points, Length: 390, dtype: int64\n"
     ]
    }
   ],
   "source": [
    "import pandas as pd\n",
    "\n",
    "reviews = pd.read_csv(\"../input/wine-reviews/winemag-data-130k-v2.csv\", index_col=0)\n",
    "\n",
    "max_points_per_price = (\n",
    "    reviews.groupby('price')['points'].max().sort_values(ascending=True)\n",
    ")\n",
    "\n",
    "print(max_points_per_price)\n"
   ]
  },
  {
   "cell_type": "code",
   "execution_count": 5,
   "id": "0ac28e3e",
   "metadata": {
    "execution": {
     "iopub.execute_input": "2024-04-17T16:56:45.992587Z",
     "iopub.status.busy": "2024-04-17T16:56:45.991689Z",
     "iopub.status.idle": "2024-04-17T16:56:45.996016Z",
     "shell.execute_reply": "2024-04-17T16:56:45.994982Z"
    },
    "papermill": {
     "duration": 0.013456,
     "end_time": "2024-04-17T16:56:45.998053",
     "exception": false,
     "start_time": "2024-04-17T16:56:45.984597",
     "status": "completed"
    },
    "tags": []
   },
   "outputs": [],
   "source": [
    "#q2.hint()\n",
    "#q2.solution()"
   ]
  },
  {
   "cell_type": "markdown",
   "id": "2d40cc1e",
   "metadata": {
    "papermill": {
     "duration": 0.005621,
     "end_time": "2024-04-17T16:56:46.009598",
     "exception": false,
     "start_time": "2024-04-17T16:56:46.003977",
     "status": "completed"
    },
    "tags": []
   },
   "source": [
    "## 3.\n",
    "What are the minimum and maximum prices for each `variety` of wine? Create a `DataFrame` whose index is the `variety` category from the dataset and whose values are the `min` and `max` values thereof."
   ]
  },
  {
   "cell_type": "code",
   "execution_count": 6,
   "id": "2aa57ffc",
   "metadata": {
    "execution": {
     "iopub.execute_input": "2024-04-17T16:56:46.023661Z",
     "iopub.status.busy": "2024-04-17T16:56:46.022915Z",
     "iopub.status.idle": "2024-04-17T16:56:47.203751Z",
     "shell.execute_reply": "2024-04-17T16:56:47.202979Z"
    },
    "papermill": {
     "duration": 1.191982,
     "end_time": "2024-04-17T16:56:47.207551",
     "exception": false,
     "start_time": "2024-04-17T16:56:46.015569",
     "status": "completed"
    },
    "tags": []
   },
   "outputs": [
    {
     "name": "stdout",
     "output_type": "stream",
     "text": [
      "            price       \n",
      "              min    max\n",
      "variety                 \n",
      "Abouriou     15.0   75.0\n",
      "Agiorgitiko  10.0   66.0\n",
      "Aglianico     6.0  180.0\n",
      "Aidani       27.0   27.0\n",
      "Airen         8.0   10.0\n",
      "...           ...    ...\n",
      "Zinfandel     5.0  100.0\n",
      "Zlahtina     13.0   16.0\n",
      "Zweigelt      9.0   70.0\n",
      "Çalkarası    19.0   19.0\n",
      "Žilavka      15.0   15.0\n",
      "\n",
      "[707 rows x 2 columns]\n"
     ]
    }
   ],
   "source": [
    "import pandas as pd\n",
    "\n",
    "reviews = pd.read_csv(\"../input/wine-reviews/winemag-data-130k-v2.csv\", index_col=0)\n",
    "price_extremes =(\n",
    "    reviews.groupby('variety')[['price']].agg(['min', 'max'])\n",
    ")\n",
    "\n",
    "print(price_extremes)"
   ]
  },
  {
   "cell_type": "code",
   "execution_count": 7,
   "id": "3aca6d42",
   "metadata": {
    "execution": {
     "iopub.execute_input": "2024-04-17T16:56:47.223603Z",
     "iopub.status.busy": "2024-04-17T16:56:47.222588Z",
     "iopub.status.idle": "2024-04-17T16:56:47.228593Z",
     "shell.execute_reply": "2024-04-17T16:56:47.227181Z"
    },
    "papermill": {
     "duration": 0.015988,
     "end_time": "2024-04-17T16:56:47.231059",
     "exception": false,
     "start_time": "2024-04-17T16:56:47.215071",
     "status": "completed"
    },
    "tags": []
   },
   "outputs": [],
   "source": [
    "#q3.hint()\n",
    "#q3.solution()"
   ]
  },
  {
   "cell_type": "markdown",
   "id": "526e4b32",
   "metadata": {
    "papermill": {
     "duration": 0.006063,
     "end_time": "2024-04-17T16:56:47.243676",
     "exception": false,
     "start_time": "2024-04-17T16:56:47.237613",
     "status": "completed"
    },
    "tags": []
   },
   "source": [
    "## 4.\n",
    "What are the most expensive wine varieties? Create a variable `sorted_varieties` containing a copy of the dataframe from the previous question where varieties are sorted in descending order based on minimum price, then on maximum price (to break ties)."
   ]
  },
  {
   "cell_type": "code",
   "execution_count": 8,
   "id": "165aacf6",
   "metadata": {
    "execution": {
     "iopub.execute_input": "2024-04-17T16:56:47.258402Z",
     "iopub.status.busy": "2024-04-17T16:56:47.257412Z",
     "iopub.status.idle": "2024-04-17T16:56:48.418488Z",
     "shell.execute_reply": "2024-04-17T16:56:48.417032Z"
    },
    "papermill": {
     "duration": 1.17105,
     "end_time": "2024-04-17T16:56:48.420985",
     "exception": false,
     "start_time": "2024-04-17T16:56:47.249935",
     "status": "completed"
    },
    "tags": []
   },
   "outputs": [
    {
     "name": "stdout",
     "output_type": "stream",
     "text": [
      "                                min_price  max_price\n",
      "variety                                             \n",
      "Ramisco                             495.0      495.0\n",
      "Terrantez                           236.0      236.0\n",
      "Francisa                            160.0      160.0\n",
      "Rosenmuskateller                    150.0      150.0\n",
      "Tinta Negra Mole                    112.0      112.0\n",
      "...                                   ...        ...\n",
      "Roscetto                              NaN        NaN\n",
      "Sauvignon Blanc-Sauvignon Gris        NaN        NaN\n",
      "Tempranillo-Malbec                    NaN        NaN\n",
      "Vital                                 NaN        NaN\n",
      "Zelen                                 NaN        NaN\n",
      "\n",
      "[707 rows x 2 columns]\n"
     ]
    }
   ],
   "source": [
    "import pandas as pd\n",
    "\n",
    "reviews = pd.read_csv(\"../input/wine-reviews/winemag-data-130k-v2.csv\")\n",
    "\n",
    "price_extremes_per_variety = (\n",
    "    reviews.groupby('variety')['price'].agg(min_price='min', max_price='max')\n",
    ")\n",
    "\n",
    "sorted_varieties = price_extremes_per_variety.sort_values(\n",
    "    by=['min_price', 'max_price'], ascending=[False, True]\n",
    ")\n",
    "\n",
    "print(sorted_varieties)"
   ]
  },
  {
   "cell_type": "code",
   "execution_count": 9,
   "id": "b5e7054c",
   "metadata": {
    "execution": {
     "iopub.execute_input": "2024-04-17T16:56:48.435560Z",
     "iopub.status.busy": "2024-04-17T16:56:48.434801Z",
     "iopub.status.idle": "2024-04-17T16:56:48.439180Z",
     "shell.execute_reply": "2024-04-17T16:56:48.438112Z"
    },
    "papermill": {
     "duration": 0.013842,
     "end_time": "2024-04-17T16:56:48.441207",
     "exception": false,
     "start_time": "2024-04-17T16:56:48.427365",
     "status": "completed"
    },
    "tags": []
   },
   "outputs": [],
   "source": [
    "#q4.hint()\n",
    "#q4.solution()"
   ]
  },
  {
   "cell_type": "markdown",
   "id": "cfd5c915",
   "metadata": {
    "papermill": {
     "duration": 0.005876,
     "end_time": "2024-04-17T16:56:48.453440",
     "exception": false,
     "start_time": "2024-04-17T16:56:48.447564",
     "status": "completed"
    },
    "tags": []
   },
   "source": [
    "## 5.\n",
    "Create a `Series` whose index is reviewers and whose values is the average review score given out by that reviewer. Hint: you will need the `taster_name` and `points` columns."
   ]
  },
  {
   "cell_type": "code",
   "execution_count": 10,
   "id": "14f5361a",
   "metadata": {
    "execution": {
     "iopub.execute_input": "2024-04-17T16:56:48.467817Z",
     "iopub.status.busy": "2024-04-17T16:56:48.467277Z",
     "iopub.status.idle": "2024-04-17T16:56:49.647723Z",
     "shell.execute_reply": "2024-04-17T16:56:49.646682Z"
    },
    "papermill": {
     "duration": 1.190352,
     "end_time": "2024-04-17T16:56:49.650092",
     "exception": false,
     "start_time": "2024-04-17T16:56:48.459740",
     "status": "completed"
    },
    "tags": []
   },
   "outputs": [
    {
     "name": "stdout",
     "output_type": "stream",
     "text": [
      "taster_name\n",
      "Alexander Peartree    85.855422\n",
      "Anna Lee C. Iijima    88.415629\n",
      "Anne Krebiehl MW      90.562551\n",
      "Carrie Dykes          86.395683\n",
      "Christina Pickard     87.833333\n",
      "Fiona Adams           86.888889\n",
      "Jeff Jenssen          88.319756\n",
      "Jim Gordon            88.626287\n",
      "Joe Czerwinski        88.536235\n",
      "Kerin O’Keefe         88.867947\n",
      "Lauren Buzzeo         87.739510\n",
      "Matt Kettmann         90.008686\n",
      "Michael Schachner     86.907493\n",
      "Mike DeSimone         89.101167\n",
      "Paul Gregutt          89.082564\n",
      "Roger Voss            88.708003\n",
      "Sean P. Sullivan      88.755739\n",
      "Susan Kostrzewa       86.609217\n",
      "Virginie Boone        89.213379\n",
      "Name: points, dtype: float64\n"
     ]
    }
   ],
   "source": [
    "import pandas as pd\n",
    "\n",
    "reviews = pd.read_csv(\"../input/wine-reviews/winemag-data-130k-v2.csv\")\n",
    "\n",
    "reviews_filtered = reviews.dropna(subset=['taster_name', 'points']) \n",
    "\n",
    "reviewer_mean_ratings = reviews_filtered.groupby('taster_name')['points'].mean()\n",
    "\n",
    "print(reviewer_mean_ratings)\n"
   ]
  },
  {
   "cell_type": "code",
   "execution_count": 11,
   "id": "8d0d3456",
   "metadata": {
    "execution": {
     "iopub.execute_input": "2024-04-17T16:56:49.664644Z",
     "iopub.status.busy": "2024-04-17T16:56:49.663960Z",
     "iopub.status.idle": "2024-04-17T16:56:49.669191Z",
     "shell.execute_reply": "2024-04-17T16:56:49.668395Z"
    },
    "papermill": {
     "duration": 0.014856,
     "end_time": "2024-04-17T16:56:49.671350",
     "exception": false,
     "start_time": "2024-04-17T16:56:49.656494",
     "status": "completed"
    },
    "tags": []
   },
   "outputs": [],
   "source": [
    "#q5.hint()\n",
    "#q5.solution()"
   ]
  },
  {
   "cell_type": "markdown",
   "id": "13347161",
   "metadata": {
    "papermill": {
     "duration": 0.006166,
     "end_time": "2024-04-17T16:56:49.684050",
     "exception": false,
     "start_time": "2024-04-17T16:56:49.677884",
     "status": "completed"
    },
    "tags": []
   },
   "source": [
    "Are there significant differences in the average scores assigned by the various reviewers? Run the cell below to use the `describe()` method to see a summary of the range of values."
   ]
  },
  {
   "cell_type": "code",
   "execution_count": 12,
   "id": "9a25e6ca",
   "metadata": {
    "execution": {
     "iopub.execute_input": "2024-04-17T16:56:49.698810Z",
     "iopub.status.busy": "2024-04-17T16:56:49.698175Z",
     "iopub.status.idle": "2024-04-17T16:56:49.708930Z",
     "shell.execute_reply": "2024-04-17T16:56:49.707897Z"
    },
    "papermill": {
     "duration": 0.020465,
     "end_time": "2024-04-17T16:56:49.710917",
     "exception": false,
     "start_time": "2024-04-17T16:56:49.690452",
     "status": "completed"
    },
    "tags": []
   },
   "outputs": [
    {
     "data": {
      "text/plain": [
       "count    19.000000\n",
       "mean     88.233026\n",
       "std       1.243610\n",
       "min      85.855422\n",
       "25%      87.323501\n",
       "50%      88.536235\n",
       "75%      88.975256\n",
       "max      90.562551\n",
       "Name: points, dtype: float64"
      ]
     },
     "execution_count": 12,
     "metadata": {},
     "output_type": "execute_result"
    }
   ],
   "source": [
    "reviewer_mean_ratings.describe()"
   ]
  },
  {
   "cell_type": "markdown",
   "id": "6928b051",
   "metadata": {
    "papermill": {
     "duration": 0.006266,
     "end_time": "2024-04-17T16:56:49.723784",
     "exception": false,
     "start_time": "2024-04-17T16:56:49.717518",
     "status": "completed"
    },
    "tags": []
   },
   "source": [
    "## 6.\n",
    "What combination of countries and varieties are most common? Create a `Series` whose index is a `MultiIndex`of `{country, variety}` pairs. For example, a pinot noir produced in the US should map to `{\"US\", \"Pinot Noir\"}`. Sort the values in the `Series` in descending order based on wine count."
   ]
  },
  {
   "cell_type": "code",
   "execution_count": 13,
   "id": "5a3929ca",
   "metadata": {
    "execution": {
     "iopub.execute_input": "2024-04-17T16:56:49.739043Z",
     "iopub.status.busy": "2024-04-17T16:56:49.738431Z",
     "iopub.status.idle": "2024-04-17T16:56:50.934415Z",
     "shell.execute_reply": "2024-04-17T16:56:50.933013Z"
    },
    "papermill": {
     "duration": 1.206209,
     "end_time": "2024-04-17T16:56:50.936673",
     "exception": false,
     "start_time": "2024-04-17T16:56:49.730464",
     "status": "completed"
    },
    "tags": []
   },
   "outputs": [
    {
     "name": "stdout",
     "output_type": "stream",
     "text": [
      "                                  count\n",
      "country variety                        \n",
      "US      Pinot Noir                 9885\n",
      "        Cabernet Sauvignon         7315\n",
      "        Chardonnay                 6801\n",
      "France  Bordeaux-style Red Blend   4725\n",
      "Italy   Red Blend                  3624\n",
      "...                                 ...\n",
      "Mexico  Cinsault                      1\n",
      "        Grenache                      1\n",
      "        Merlot                        1\n",
      "        Rosado                        1\n",
      "Uruguay White Blend                   1\n",
      "\n",
      "[1612 rows x 1 columns]\n"
     ]
    }
   ],
   "source": [
    "import pandas as pd\n",
    "\n",
    "reviews = pd.read_csv(\"../input/wine-reviews/winemag-data-130k-v2.csv\")\n",
    "\n",
    "reviews_filtered = reviews.dropna(subset=['country', 'variety'])\n",
    "\n",
    "country_variety_counts = (\n",
    "    reviews_filtered.groupby(['country', 'variety'])\n",
    "    .size()\n",
    "    .to_frame(name='count')\n",
    "    .reset_index()\n",
    "    .sort_values(by='count', ascending=False)\n",
    ")\n",
    "\n",
    "# Create MultiIndex\n",
    "country_variety_counts.set_index(['country', 'variety'], inplace=True)\n",
    "\n",
    "print(country_variety_counts)\n"
   ]
  },
  {
   "cell_type": "code",
   "execution_count": 14,
   "id": "3f7e0292",
   "metadata": {
    "execution": {
     "iopub.execute_input": "2024-04-17T16:56:50.952885Z",
     "iopub.status.busy": "2024-04-17T16:56:50.952152Z",
     "iopub.status.idle": "2024-04-17T16:56:50.958163Z",
     "shell.execute_reply": "2024-04-17T16:56:50.957051Z"
    },
    "papermill": {
     "duration": 0.016489,
     "end_time": "2024-04-17T16:56:50.960209",
     "exception": false,
     "start_time": "2024-04-17T16:56:50.943720",
     "status": "completed"
    },
    "tags": []
   },
   "outputs": [],
   "source": [
    "#q6.hint()\n",
    "#q6.solution()"
   ]
  },
  {
   "cell_type": "markdown",
   "id": "6c6a7804",
   "metadata": {
    "papermill": {
     "duration": 0.006457,
     "end_time": "2024-04-17T16:56:50.973438",
     "exception": false,
     "start_time": "2024-04-17T16:56:50.966981",
     "status": "completed"
    },
    "tags": []
   },
   "source": [
    "# Keep going\n",
    "\n",
    "Move on to the [**data types and missing data**](https://www.kaggle.com/residentmario/data-types-and-missing-values)."
   ]
  },
  {
   "cell_type": "markdown",
   "id": "4ed35e7f",
   "metadata": {
    "papermill": {
     "duration": 0.006824,
     "end_time": "2024-04-17T16:56:50.987197",
     "exception": false,
     "start_time": "2024-04-17T16:56:50.980373",
     "status": "completed"
    },
    "tags": []
   },
   "source": [
    "---\n",
    "\n",
    "\n",
    "\n",
    "\n",
    "*Have questions or comments? Visit the [course discussion forum](https://www.kaggle.com/learn/pandas/discussion) to chat with other learners.*"
   ]
  }
 ],
 "metadata": {
  "kaggle": {
   "accelerator": "none",
   "dataSources": [
    {
     "datasetId": 655,
     "sourceId": 1252,
     "sourceType": "datasetVersion"
    },
    {
     "datasetId": 2321,
     "sourceId": 3919,
     "sourceType": "datasetVersion"
    },
    {
     "datasetId": 2894,
     "sourceId": 4877,
     "sourceType": "datasetVersion"
    },
    {
     "datasetId": 3491,
     "sourceId": 5624,
     "sourceType": "datasetVersion"
    },
    {
     "datasetId": 1442,
     "sourceId": 8172,
     "sourceType": "datasetVersion"
    },
    {
     "datasetId": 9366,
     "sourceId": 13206,
     "sourceType": "datasetVersion"
    },
    {
     "datasetId": 179555,
     "sourceId": 403916,
     "sourceType": "datasetVersion"
    },
    {
     "datasetId": 4549,
     "sourceId": 466349,
     "sourceType": "datasetVersion"
    },
    {
     "datasetId": 2478,
     "sourceId": 1151655,
     "sourceType": "datasetVersion"
    },
    {
     "datasetId": 10128,
     "sourceId": 5438389,
     "sourceType": "datasetVersion"
    }
   ],
   "isGpuEnabled": false,
   "isInternetEnabled": false,
   "language": "python",
   "sourceType": "notebook"
  },
  "kernelspec": {
   "display_name": "Python 3",
   "language": "python",
   "name": "python3"
  },
  "language_info": {
   "codemirror_mode": {
    "name": "ipython",
    "version": 3
   },
   "file_extension": ".py",
   "mimetype": "text/x-python",
   "name": "python",
   "nbconvert_exporter": "python",
   "pygments_lexer": "ipython3",
   "version": "3.10.13"
  },
  "papermill": {
   "default_parameters": {},
   "duration": 14.708711,
   "end_time": "2024-04-17T16:56:51.513827",
   "environment_variables": {},
   "exception": null,
   "input_path": "__notebook__.ipynb",
   "output_path": "__notebook__.ipynb",
   "parameters": {},
   "start_time": "2024-04-17T16:56:36.805116",
   "version": "2.5.0"
  }
 },
 "nbformat": 4,
 "nbformat_minor": 5
}
