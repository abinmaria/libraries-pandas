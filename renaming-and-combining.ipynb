{
 "cells": [
  {
   "cell_type": "markdown",
   "id": "decf68d1",
   "metadata": {
    "papermill": {
     "duration": 0.007765,
     "end_time": "2024-04-18T04:17:39.211420",
     "exception": false,
     "start_time": "2024-04-18T04:17:39.203655",
     "status": "completed"
    },
    "tags": []
   },
   "source": [
    "**This notebook is an exercise in the [Pandas](https://www.kaggle.com/learn/pandas) course.  You can reference the tutorial at [this link](https://www.kaggle.com/residentmario/renaming-and-combining).**\n",
    "\n",
    "---\n"
   ]
  },
  {
   "cell_type": "markdown",
   "id": "025d9071",
   "metadata": {
    "papermill": {
     "duration": 0.007281,
     "end_time": "2024-04-18T04:17:39.226060",
     "exception": false,
     "start_time": "2024-04-18T04:17:39.218779",
     "status": "completed"
    },
    "tags": []
   },
   "source": [
    "# Introduction\n",
    "\n",
    "Run the following cell to load your data and some utility functions."
   ]
  },
  {
   "cell_type": "code",
   "execution_count": 1,
   "id": "ef337109",
   "metadata": {
    "execution": {
     "iopub.execute_input": "2024-04-18T04:17:39.242478Z",
     "iopub.status.busy": "2024-04-18T04:17:39.242027Z",
     "iopub.status.idle": "2024-04-18T04:17:45.170939Z",
     "shell.execute_reply": "2024-04-18T04:17:45.169443Z"
    },
    "papermill": {
     "duration": 5.940376,
     "end_time": "2024-04-18T04:17:45.173723",
     "exception": false,
     "start_time": "2024-04-18T04:17:39.233347",
     "status": "completed"
    },
    "tags": []
   },
   "outputs": [
    {
     "name": "stdout",
     "output_type": "stream",
     "text": [
      "Setup complete.\n"
     ]
    }
   ],
   "source": [
    "import pandas as pd\n",
    "\n",
    "reviews = pd.read_csv(\"../input/wine-reviews/winemag-data-130k-v2.csv\", index_col=0)\n",
    "\n",
    "from learntools.core import binder; binder.bind(globals())\n",
    "from learntools.pandas.renaming_and_combining import *\n",
    "print(\"Setup complete.\")"
   ]
  },
  {
   "cell_type": "markdown",
   "id": "635e5583",
   "metadata": {
    "papermill": {
     "duration": 0.007556,
     "end_time": "2024-04-18T04:17:45.188920",
     "exception": false,
     "start_time": "2024-04-18T04:17:45.181364",
     "status": "completed"
    },
    "tags": []
   },
   "source": [
    "# Exercises\n",
    "\n",
    "View the first several lines of your data by running the cell below:"
   ]
  },
  {
   "cell_type": "code",
   "execution_count": 2,
   "id": "091923c6",
   "metadata": {
    "execution": {
     "iopub.execute_input": "2024-04-18T04:17:45.206146Z",
     "iopub.status.busy": "2024-04-18T04:17:45.205618Z",
     "iopub.status.idle": "2024-04-18T04:17:46.526381Z",
     "shell.execute_reply": "2024-04-18T04:17:46.525263Z"
    },
    "papermill": {
     "duration": 1.332906,
     "end_time": "2024-04-18T04:17:46.529266",
     "exception": false,
     "start_time": "2024-04-18T04:17:45.196360",
     "status": "completed"
    },
    "tags": []
   },
   "outputs": [
    {
     "data": {
      "text/html": [
       "<div>\n",
       "<style scoped>\n",
       "    .dataframe tbody tr th:only-of-type {\n",
       "        vertical-align: middle;\n",
       "    }\n",
       "\n",
       "    .dataframe tbody tr th {\n",
       "        vertical-align: top;\n",
       "    }\n",
       "\n",
       "    .dataframe thead th {\n",
       "        text-align: right;\n",
       "    }\n",
       "</style>\n",
       "<table border=\"1\" class=\"dataframe\">\n",
       "  <thead>\n",
       "    <tr style=\"text-align: right;\">\n",
       "      <th></th>\n",
       "      <th>country</th>\n",
       "      <th>description</th>\n",
       "      <th>designation</th>\n",
       "      <th>points</th>\n",
       "      <th>price</th>\n",
       "      <th>province</th>\n",
       "      <th>region_1</th>\n",
       "      <th>region_2</th>\n",
       "      <th>taster_name</th>\n",
       "      <th>taster_twitter_handle</th>\n",
       "      <th>title</th>\n",
       "      <th>variety</th>\n",
       "      <th>winery</th>\n",
       "    </tr>\n",
       "  </thead>\n",
       "  <tbody>\n",
       "    <tr>\n",
       "      <th>0</th>\n",
       "      <td>Italy</td>\n",
       "      <td>Aromas include tropical fruit, broom, brimston...</td>\n",
       "      <td>Vulkà Bianco</td>\n",
       "      <td>87</td>\n",
       "      <td>NaN</td>\n",
       "      <td>Sicily &amp; Sardinia</td>\n",
       "      <td>Etna</td>\n",
       "      <td>NaN</td>\n",
       "      <td>Kerin O’Keefe</td>\n",
       "      <td>@kerinokeefe</td>\n",
       "      <td>Nicosia 2013 Vulkà Bianco  (Etna)</td>\n",
       "      <td>White Blend</td>\n",
       "      <td>Nicosia</td>\n",
       "    </tr>\n",
       "    <tr>\n",
       "      <th>1</th>\n",
       "      <td>Portugal</td>\n",
       "      <td>This is ripe and fruity, a wine that is smooth...</td>\n",
       "      <td>Avidagos</td>\n",
       "      <td>87</td>\n",
       "      <td>15.0</td>\n",
       "      <td>Douro</td>\n",
       "      <td>NaN</td>\n",
       "      <td>NaN</td>\n",
       "      <td>Roger Voss</td>\n",
       "      <td>@vossroger</td>\n",
       "      <td>Quinta dos Avidagos 2011 Avidagos Red (Douro)</td>\n",
       "      <td>Portuguese Red</td>\n",
       "      <td>Quinta dos Avidagos</td>\n",
       "    </tr>\n",
       "    <tr>\n",
       "      <th>2</th>\n",
       "      <td>US</td>\n",
       "      <td>Tart and snappy, the flavors of lime flesh and...</td>\n",
       "      <td>NaN</td>\n",
       "      <td>87</td>\n",
       "      <td>14.0</td>\n",
       "      <td>Oregon</td>\n",
       "      <td>Willamette Valley</td>\n",
       "      <td>Willamette Valley</td>\n",
       "      <td>Paul Gregutt</td>\n",
       "      <td>@paulgwine</td>\n",
       "      <td>Rainstorm 2013 Pinot Gris (Willamette Valley)</td>\n",
       "      <td>Pinot Gris</td>\n",
       "      <td>Rainstorm</td>\n",
       "    </tr>\n",
       "    <tr>\n",
       "      <th>3</th>\n",
       "      <td>US</td>\n",
       "      <td>Pineapple rind, lemon pith and orange blossom ...</td>\n",
       "      <td>Reserve Late Harvest</td>\n",
       "      <td>87</td>\n",
       "      <td>13.0</td>\n",
       "      <td>Michigan</td>\n",
       "      <td>Lake Michigan Shore</td>\n",
       "      <td>NaN</td>\n",
       "      <td>Alexander Peartree</td>\n",
       "      <td>NaN</td>\n",
       "      <td>St. Julian 2013 Reserve Late Harvest Riesling ...</td>\n",
       "      <td>Riesling</td>\n",
       "      <td>St. Julian</td>\n",
       "    </tr>\n",
       "    <tr>\n",
       "      <th>4</th>\n",
       "      <td>US</td>\n",
       "      <td>Much like the regular bottling from 2012, this...</td>\n",
       "      <td>Vintner's Reserve Wild Child Block</td>\n",
       "      <td>87</td>\n",
       "      <td>65.0</td>\n",
       "      <td>Oregon</td>\n",
       "      <td>Willamette Valley</td>\n",
       "      <td>Willamette Valley</td>\n",
       "      <td>Paul Gregutt</td>\n",
       "      <td>@paulgwine</td>\n",
       "      <td>Sweet Cheeks 2012 Vintner's Reserve Wild Child...</td>\n",
       "      <td>Pinot Noir</td>\n",
       "      <td>Sweet Cheeks</td>\n",
       "    </tr>\n",
       "  </tbody>\n",
       "</table>\n",
       "</div>"
      ],
      "text/plain": [
       "    country                                        description  \\\n",
       "0     Italy  Aromas include tropical fruit, broom, brimston...   \n",
       "1  Portugal  This is ripe and fruity, a wine that is smooth...   \n",
       "2        US  Tart and snappy, the flavors of lime flesh and...   \n",
       "3        US  Pineapple rind, lemon pith and orange blossom ...   \n",
       "4        US  Much like the regular bottling from 2012, this...   \n",
       "\n",
       "                          designation  points  price           province  \\\n",
       "0                        Vulkà Bianco      87    NaN  Sicily & Sardinia   \n",
       "1                            Avidagos      87   15.0              Douro   \n",
       "2                                 NaN      87   14.0             Oregon   \n",
       "3                Reserve Late Harvest      87   13.0           Michigan   \n",
       "4  Vintner's Reserve Wild Child Block      87   65.0             Oregon   \n",
       "\n",
       "              region_1           region_2         taster_name  \\\n",
       "0                 Etna                NaN       Kerin O’Keefe   \n",
       "1                  NaN                NaN          Roger Voss   \n",
       "2    Willamette Valley  Willamette Valley        Paul Gregutt   \n",
       "3  Lake Michigan Shore                NaN  Alexander Peartree   \n",
       "4    Willamette Valley  Willamette Valley        Paul Gregutt   \n",
       "\n",
       "  taster_twitter_handle                                              title  \\\n",
       "0          @kerinokeefe                  Nicosia 2013 Vulkà Bianco  (Etna)   \n",
       "1            @vossroger      Quinta dos Avidagos 2011 Avidagos Red (Douro)   \n",
       "2           @paulgwine       Rainstorm 2013 Pinot Gris (Willamette Valley)   \n",
       "3                   NaN  St. Julian 2013 Reserve Late Harvest Riesling ...   \n",
       "4           @paulgwine   Sweet Cheeks 2012 Vintner's Reserve Wild Child...   \n",
       "\n",
       "          variety               winery  \n",
       "0     White Blend              Nicosia  \n",
       "1  Portuguese Red  Quinta dos Avidagos  \n",
       "2      Pinot Gris            Rainstorm  \n",
       "3        Riesling           St. Julian  \n",
       "4      Pinot Noir         Sweet Cheeks  "
      ]
     },
     "execution_count": 2,
     "metadata": {},
     "output_type": "execute_result"
    }
   ],
   "source": [
    "import pandas as pd\n",
    "\n",
    "reviews = pd.read_csv(\"../input/wine-reviews/winemag-data-130k-v2.csv\", index_col=0)\n",
    "reviews.head()"
   ]
  },
  {
   "cell_type": "markdown",
   "id": "0dc98108",
   "metadata": {
    "papermill": {
     "duration": 0.007536,
     "end_time": "2024-04-18T04:17:46.544953",
     "exception": false,
     "start_time": "2024-04-18T04:17:46.537417",
     "status": "completed"
    },
    "tags": []
   },
   "source": [
    "## 1.\n",
    "`region_1` and `region_2` are pretty uninformative names for locale columns in the dataset. Create a copy of `reviews` with these columns renamed to `region` and `locale`, respectively."
   ]
  },
  {
   "cell_type": "code",
   "execution_count": 3,
   "id": "c9ec6c7d",
   "metadata": {
    "execution": {
     "iopub.execute_input": "2024-04-18T04:17:46.562726Z",
     "iopub.status.busy": "2024-04-18T04:17:46.562330Z",
     "iopub.status.idle": "2024-04-18T04:17:47.813653Z",
     "shell.execute_reply": "2024-04-18T04:17:47.811962Z"
    },
    "papermill": {
     "duration": 1.263724,
     "end_time": "2024-04-18T04:17:47.816611",
     "exception": false,
     "start_time": "2024-04-18T04:17:46.552887",
     "status": "completed"
    },
    "tags": []
   },
   "outputs": [
    {
     "name": "stdout",
     "output_type": "stream",
     "text": [
      "         country                                        description  \\\n",
      "0          Italy  Aromas include tropical fruit, broom, brimston...   \n",
      "1       Portugal  This is ripe and fruity, a wine that is smooth...   \n",
      "2             US  Tart and snappy, the flavors of lime flesh and...   \n",
      "3             US  Pineapple rind, lemon pith and orange blossom ...   \n",
      "4             US  Much like the regular bottling from 2012, this...   \n",
      "...          ...                                                ...   \n",
      "129966   Germany  Notes of honeysuckle and cantaloupe sweeten th...   \n",
      "129967        US  Citation is given as much as a decade of bottl...   \n",
      "129968    France  Well-drained gravel soil gives this wine its c...   \n",
      "129969    France  A dry style of Pinot Gris, this is crisp with ...   \n",
      "129970    France  Big, rich and off-dry, this is powered by inte...   \n",
      "\n",
      "                                   designation  points  price  \\\n",
      "0                                 Vulkà Bianco      87    NaN   \n",
      "1                                     Avidagos      87   15.0   \n",
      "2                                          NaN      87   14.0   \n",
      "3                         Reserve Late Harvest      87   13.0   \n",
      "4           Vintner's Reserve Wild Child Block      87   65.0   \n",
      "...                                        ...     ...    ...   \n",
      "129966  Brauneberger Juffer-Sonnenuhr Spätlese      90   28.0   \n",
      "129967                                     NaN      90   75.0   \n",
      "129968                                   Kritt      90   30.0   \n",
      "129969                                     NaN      90   32.0   \n",
      "129970           Lieu-dit Harth Cuvée Caroline      90   21.0   \n",
      "\n",
      "                 province               region             locale  \\\n",
      "0       Sicily & Sardinia                 Etna                NaN   \n",
      "1                   Douro                  NaN                NaN   \n",
      "2                  Oregon    Willamette Valley  Willamette Valley   \n",
      "3                Michigan  Lake Michigan Shore                NaN   \n",
      "4                  Oregon    Willamette Valley  Willamette Valley   \n",
      "...                   ...                  ...                ...   \n",
      "129966              Mosel                  NaN                NaN   \n",
      "129967             Oregon               Oregon       Oregon Other   \n",
      "129968             Alsace               Alsace                NaN   \n",
      "129969             Alsace               Alsace                NaN   \n",
      "129970             Alsace               Alsace                NaN   \n",
      "\n",
      "               taster_name taster_twitter_handle  \\\n",
      "0            Kerin O’Keefe          @kerinokeefe   \n",
      "1               Roger Voss            @vossroger   \n",
      "2             Paul Gregutt           @paulgwine    \n",
      "3       Alexander Peartree                   NaN   \n",
      "4             Paul Gregutt           @paulgwine    \n",
      "...                    ...                   ...   \n",
      "129966  Anna Lee C. Iijima                   NaN   \n",
      "129967        Paul Gregutt           @paulgwine    \n",
      "129968          Roger Voss            @vossroger   \n",
      "129969          Roger Voss            @vossroger   \n",
      "129970          Roger Voss            @vossroger   \n",
      "\n",
      "                                                    title         variety  \\\n",
      "0                       Nicosia 2013 Vulkà Bianco  (Etna)     White Blend   \n",
      "1           Quinta dos Avidagos 2011 Avidagos Red (Douro)  Portuguese Red   \n",
      "2           Rainstorm 2013 Pinot Gris (Willamette Valley)      Pinot Gris   \n",
      "3       St. Julian 2013 Reserve Late Harvest Riesling ...        Riesling   \n",
      "4       Sweet Cheeks 2012 Vintner's Reserve Wild Child...      Pinot Noir   \n",
      "...                                                   ...             ...   \n",
      "129966  Dr. H. Thanisch (Erben Müller-Burggraef) 2013 ...        Riesling   \n",
      "129967                  Citation 2004 Pinot Noir (Oregon)      Pinot Noir   \n",
      "129968  Domaine Gresser 2013 Kritt Gewurztraminer (Als...  Gewürztraminer   \n",
      "129969      Domaine Marcel Deiss 2012 Pinot Gris (Alsace)      Pinot Gris   \n",
      "129970  Domaine Schoffit 2012 Lieu-dit Harth Cuvée Car...  Gewürztraminer   \n",
      "\n",
      "                                          winery  \n",
      "0                                        Nicosia  \n",
      "1                            Quinta dos Avidagos  \n",
      "2                                      Rainstorm  \n",
      "3                                     St. Julian  \n",
      "4                                   Sweet Cheeks  \n",
      "...                                          ...  \n",
      "129966  Dr. H. Thanisch (Erben Müller-Burggraef)  \n",
      "129967                                  Citation  \n",
      "129968                           Domaine Gresser  \n",
      "129969                      Domaine Marcel Deiss  \n",
      "129970                          Domaine Schoffit  \n",
      "\n",
      "[129971 rows x 13 columns]\n"
     ]
    }
   ],
   "source": [
    "# Your code here\n",
    "import pandas as pd\n",
    "\n",
    "reviews = pd.read_csv(\"../input/wine-reviews/winemag-data-130k-v2.csv\", index_col=0)\n",
    "renamed = reviews.rename(columns={'region_1':'region','region_2':'locale'})\n",
    "print(renamed)"
   ]
  },
  {
   "cell_type": "code",
   "execution_count": 4,
   "id": "3a5a043c",
   "metadata": {
    "execution": {
     "iopub.execute_input": "2024-04-18T04:17:47.835420Z",
     "iopub.status.busy": "2024-04-18T04:17:47.834699Z",
     "iopub.status.idle": "2024-04-18T04:17:47.838826Z",
     "shell.execute_reply": "2024-04-18T04:17:47.837707Z"
    },
    "papermill": {
     "duration": 0.016894,
     "end_time": "2024-04-18T04:17:47.841717",
     "exception": false,
     "start_time": "2024-04-18T04:17:47.824823",
     "status": "completed"
    },
    "tags": []
   },
   "outputs": [],
   "source": [
    "#q1.hint()\n",
    "#q1.solution()"
   ]
  },
  {
   "cell_type": "markdown",
   "id": "0208a133",
   "metadata": {
    "papermill": {
     "duration": 0.008043,
     "end_time": "2024-04-18T04:17:47.858018",
     "exception": false,
     "start_time": "2024-04-18T04:17:47.849975",
     "status": "completed"
    },
    "tags": []
   },
   "source": [
    "## 2.\n",
    "Set the index name in the dataset to `wines`."
   ]
  },
  {
   "cell_type": "code",
   "execution_count": 5,
   "id": "0fa59ede",
   "metadata": {
    "execution": {
     "iopub.execute_input": "2024-04-18T04:17:47.878449Z",
     "iopub.status.busy": "2024-04-18T04:17:47.877721Z",
     "iopub.status.idle": "2024-04-18T04:17:49.158199Z",
     "shell.execute_reply": "2024-04-18T04:17:49.157230Z"
    },
    "papermill": {
     "duration": 1.294052,
     "end_time": "2024-04-18T04:17:49.162040",
     "exception": false,
     "start_time": "2024-04-18T04:17:47.867988",
     "status": "completed"
    },
    "tags": []
   },
   "outputs": [
    {
     "name": "stdout",
     "output_type": "stream",
     "text": [
      "         country                                        description  \\\n",
      "wines                                                                 \n",
      "0          Italy  Aromas include tropical fruit, broom, brimston...   \n",
      "1       Portugal  This is ripe and fruity, a wine that is smooth...   \n",
      "2             US  Tart and snappy, the flavors of lime flesh and...   \n",
      "3             US  Pineapple rind, lemon pith and orange blossom ...   \n",
      "4             US  Much like the regular bottling from 2012, this...   \n",
      "...          ...                                                ...   \n",
      "129966   Germany  Notes of honeysuckle and cantaloupe sweeten th...   \n",
      "129967        US  Citation is given as much as a decade of bottl...   \n",
      "129968    France  Well-drained gravel soil gives this wine its c...   \n",
      "129969    France  A dry style of Pinot Gris, this is crisp with ...   \n",
      "129970    France  Big, rich and off-dry, this is powered by inte...   \n",
      "\n",
      "                                   designation  points  price  \\\n",
      "wines                                                           \n",
      "0                                 Vulkà Bianco      87    NaN   \n",
      "1                                     Avidagos      87   15.0   \n",
      "2                                          NaN      87   14.0   \n",
      "3                         Reserve Late Harvest      87   13.0   \n",
      "4           Vintner's Reserve Wild Child Block      87   65.0   \n",
      "...                                        ...     ...    ...   \n",
      "129966  Brauneberger Juffer-Sonnenuhr Spätlese      90   28.0   \n",
      "129967                                     NaN      90   75.0   \n",
      "129968                                   Kritt      90   30.0   \n",
      "129969                                     NaN      90   32.0   \n",
      "129970           Lieu-dit Harth Cuvée Caroline      90   21.0   \n",
      "\n",
      "                 province             region_1           region_2  \\\n",
      "wines                                                               \n",
      "0       Sicily & Sardinia                 Etna                NaN   \n",
      "1                   Douro                  NaN                NaN   \n",
      "2                  Oregon    Willamette Valley  Willamette Valley   \n",
      "3                Michigan  Lake Michigan Shore                NaN   \n",
      "4                  Oregon    Willamette Valley  Willamette Valley   \n",
      "...                   ...                  ...                ...   \n",
      "129966              Mosel                  NaN                NaN   \n",
      "129967             Oregon               Oregon       Oregon Other   \n",
      "129968             Alsace               Alsace                NaN   \n",
      "129969             Alsace               Alsace                NaN   \n",
      "129970             Alsace               Alsace                NaN   \n",
      "\n",
      "               taster_name taster_twitter_handle  \\\n",
      "wines                                              \n",
      "0            Kerin O’Keefe          @kerinokeefe   \n",
      "1               Roger Voss            @vossroger   \n",
      "2             Paul Gregutt           @paulgwine    \n",
      "3       Alexander Peartree                   NaN   \n",
      "4             Paul Gregutt           @paulgwine    \n",
      "...                    ...                   ...   \n",
      "129966  Anna Lee C. Iijima                   NaN   \n",
      "129967        Paul Gregutt           @paulgwine    \n",
      "129968          Roger Voss            @vossroger   \n",
      "129969          Roger Voss            @vossroger   \n",
      "129970          Roger Voss            @vossroger   \n",
      "\n",
      "                                                    title         variety  \\\n",
      "wines                                                                       \n",
      "0                       Nicosia 2013 Vulkà Bianco  (Etna)     White Blend   \n",
      "1           Quinta dos Avidagos 2011 Avidagos Red (Douro)  Portuguese Red   \n",
      "2           Rainstorm 2013 Pinot Gris (Willamette Valley)      Pinot Gris   \n",
      "3       St. Julian 2013 Reserve Late Harvest Riesling ...        Riesling   \n",
      "4       Sweet Cheeks 2012 Vintner's Reserve Wild Child...      Pinot Noir   \n",
      "...                                                   ...             ...   \n",
      "129966  Dr. H. Thanisch (Erben Müller-Burggraef) 2013 ...        Riesling   \n",
      "129967                  Citation 2004 Pinot Noir (Oregon)      Pinot Noir   \n",
      "129968  Domaine Gresser 2013 Kritt Gewurztraminer (Als...  Gewürztraminer   \n",
      "129969      Domaine Marcel Deiss 2012 Pinot Gris (Alsace)      Pinot Gris   \n",
      "129970  Domaine Schoffit 2012 Lieu-dit Harth Cuvée Car...  Gewürztraminer   \n",
      "\n",
      "                                          winery  \n",
      "wines                                             \n",
      "0                                        Nicosia  \n",
      "1                            Quinta dos Avidagos  \n",
      "2                                      Rainstorm  \n",
      "3                                     St. Julian  \n",
      "4                                   Sweet Cheeks  \n",
      "...                                          ...  \n",
      "129966  Dr. H. Thanisch (Erben Müller-Burggraef)  \n",
      "129967                                  Citation  \n",
      "129968                           Domaine Gresser  \n",
      "129969                      Domaine Marcel Deiss  \n",
      "129970                          Domaine Schoffit  \n",
      "\n",
      "[129971 rows x 13 columns]\n"
     ]
    }
   ],
   "source": [
    "import pandas as pd\n",
    "\n",
    "reviews = pd.read_csv(\"../input/wine-reviews/winemag-data-130k-v2.csv\", index_col=0)\n",
    "reviews.index.name = \"wines\"\n",
    "reviews = reviews.rename_axis() \n",
    "print(reviews)"
   ]
  },
  {
   "cell_type": "code",
   "execution_count": 6,
   "id": "3eaf1aa7",
   "metadata": {
    "execution": {
     "iopub.execute_input": "2024-04-18T04:17:49.180941Z",
     "iopub.status.busy": "2024-04-18T04:17:49.180521Z",
     "iopub.status.idle": "2024-04-18T04:17:49.185252Z",
     "shell.execute_reply": "2024-04-18T04:17:49.183992Z"
    },
    "papermill": {
     "duration": 0.017098,
     "end_time": "2024-04-18T04:17:49.187715",
     "exception": false,
     "start_time": "2024-04-18T04:17:49.170617",
     "status": "completed"
    },
    "tags": []
   },
   "outputs": [],
   "source": [
    "#q2.hint()\n",
    "#q2.solution()"
   ]
  },
  {
   "cell_type": "markdown",
   "id": "77ba76c0",
   "metadata": {
    "papermill": {
     "duration": 0.008447,
     "end_time": "2024-04-18T04:17:49.204677",
     "exception": false,
     "start_time": "2024-04-18T04:17:49.196230",
     "status": "completed"
    },
    "tags": []
   },
   "source": [
    "## 3.\n",
    "The [Things on Reddit](https://www.kaggle.com/residentmario/things-on-reddit/data) dataset includes product links from a selection of top-ranked forums (\"subreddits\") on reddit.com. Run the cell below to load a dataframe of products mentioned on the */r/gaming* subreddit and another dataframe for products mentioned on the *r//movies* subreddit."
   ]
  },
  {
   "cell_type": "code",
   "execution_count": 7,
   "id": "6196bf4b",
   "metadata": {
    "execution": {
     "iopub.execute_input": "2024-04-18T04:17:49.224199Z",
     "iopub.status.busy": "2024-04-18T04:17:49.223741Z",
     "iopub.status.idle": "2024-04-18T04:17:49.239271Z",
     "shell.execute_reply": "2024-04-18T04:17:49.237984Z"
    },
    "papermill": {
     "duration": 0.028341,
     "end_time": "2024-04-18T04:17:49.242115",
     "exception": false,
     "start_time": "2024-04-18T04:17:49.213774",
     "status": "completed"
    },
    "tags": []
   },
   "outputs": [],
   "source": [
    "gaming_products = pd.read_csv(\"../input/things-on-reddit/top-things/top-things/reddits/g/gaming.csv\")\n",
    "gaming_products['subreddit'] = \"r/gaming\"\n",
    "movie_products = pd.read_csv(\"../input/things-on-reddit/top-things/top-things/reddits/m/movies.csv\")\n",
    "movie_products['subreddit'] = \"r/movies\""
   ]
  },
  {
   "cell_type": "markdown",
   "id": "e29b0df4",
   "metadata": {
    "papermill": {
     "duration": 0.008901,
     "end_time": "2024-04-18T04:17:49.259855",
     "exception": false,
     "start_time": "2024-04-18T04:17:49.250954",
     "status": "completed"
    },
    "tags": []
   },
   "source": [
    "Create a `DataFrame` of products mentioned on *either* subreddit."
   ]
  },
  {
   "cell_type": "code",
   "execution_count": 8,
   "id": "05c0ffea",
   "metadata": {
    "execution": {
     "iopub.execute_input": "2024-04-18T04:17:49.279416Z",
     "iopub.status.busy": "2024-04-18T04:17:49.278948Z",
     "iopub.status.idle": "2024-04-18T04:17:49.302333Z",
     "shell.execute_reply": "2024-04-18T04:17:49.301304Z"
    },
    "papermill": {
     "duration": 0.036271,
     "end_time": "2024-04-18T04:17:49.305290",
     "exception": false,
     "start_time": "2024-04-18T04:17:49.269019",
     "status": "completed"
    },
    "tags": []
   },
   "outputs": [
    {
     "name": "stdout",
     "output_type": "stream",
     "text": [
      "                                                  name      category  \\\n",
      "0                 BOOMco Halo Covenant Needler Blaster  Toys & Games   \n",
      "1    Raspberry PI 3 Model B 1.2GHz 64-bit quad-core...   Electronics   \n",
      "2    CanaKit 5V 2.5A Raspberry Pi 3 Power Supply / ...   Electronics   \n",
      "3    Panasonic K-KJ17MCA4BA Advanced Individual Cel...   Electronics   \n",
      "4    Mayflash GameCube Controller Adapter for Wii U...   Electronics   \n",
      "..                                                 ...           ...   \n",
      "298                  Welcome to Night Vale CD: A Novel         Books   \n",
      "299             Ran (StudioCanal Collection) [Blu-ray]   Movies & TV   \n",
      "300                              The Art of John Alvin         Books   \n",
      "301                               Apocalypto [Blu-ray]   Movies & TV   \n",
      "302  Cinelinx: A Card Game for People Who Love Movi...  Toys & Games   \n",
      "\n",
      "                                           amazon_link  total_mentions  \\\n",
      "0    https://www.amazon.com/BOOMco-Halo-Covenant-Ne...             4.0   \n",
      "1    https://www.amazon.com/Raspberry-Model-A1-2GHz...            19.0   \n",
      "2    https://www.amazon.com/CanaKit-Raspberry-Suppl...             7.0   \n",
      "3    https://www.amazon.com/Panasonic-Advanced-Indi...            29.0   \n",
      "4    https://www.amazon.com/GameCube-Controller-Ada...            24.0   \n",
      "..                                                 ...             ...   \n",
      "298  https://www.amazon.com/Welcome-Night-Vale-CD-N...             1.0   \n",
      "299  https://www.amazon.com/StudioCanal-Collection-...             1.0   \n",
      "300  https://www.amazon.com/Art-John-Alvin-Andrea/d...             1.0   \n",
      "301  https://www.amazon.com/Apocalypto-Blu-ray-Rudy...             1.0   \n",
      "302  https://www.amazon.com/Cinelinx-Card-Game-Peop...             1.0   \n",
      "\n",
      "     subreddit_mentions subreddit  \n",
      "0                     4  r/gaming  \n",
      "1                     3  r/gaming  \n",
      "2                     3  r/gaming  \n",
      "3                     2  r/gaming  \n",
      "4                     2  r/gaming  \n",
      "..                  ...       ...  \n",
      "298                   1  r/movies  \n",
      "299                   1  r/movies  \n",
      "300                   1  r/movies  \n",
      "301                   1  r/movies  \n",
      "302                   1  r/movies  \n",
      "\n",
      "[796 rows x 6 columns]\n"
     ]
    }
   ],
   "source": [
    "gaming_products = pd.read_csv(\"../input/things-on-reddit/top-things/top-things/reddits/g/gaming.csv\")\n",
    "gaming_products['subreddit'] = \"r/gaming\"\n",
    "movie_products = pd.read_csv(\"../input/things-on-reddit/top-things/top-things/reddits/m/movies.csv\")\n",
    "movie_products['subreddit'] = \"r/movies\"\n",
    "combined_products = pd.concat([gaming_products,movie_products])\n",
    "\n",
    "print(combined_products)"
   ]
  },
  {
   "cell_type": "code",
   "execution_count": 9,
   "id": "c1cee7cb",
   "metadata": {
    "execution": {
     "iopub.execute_input": "2024-04-18T04:17:49.324737Z",
     "iopub.status.busy": "2024-04-18T04:17:49.324189Z",
     "iopub.status.idle": "2024-04-18T04:17:49.328974Z",
     "shell.execute_reply": "2024-04-18T04:17:49.327868Z"
    },
    "papermill": {
     "duration": 0.017359,
     "end_time": "2024-04-18T04:17:49.331405",
     "exception": false,
     "start_time": "2024-04-18T04:17:49.314046",
     "status": "completed"
    },
    "tags": []
   },
   "outputs": [],
   "source": [
    "#q3.hint()\n",
    "#q3.solution()"
   ]
  },
  {
   "cell_type": "markdown",
   "id": "d0141381",
   "metadata": {
    "papermill": {
     "duration": 0.00903,
     "end_time": "2024-04-18T04:17:49.349608",
     "exception": false,
     "start_time": "2024-04-18T04:17:49.340578",
     "status": "completed"
    },
    "tags": []
   },
   "source": [
    "## 4.\n",
    "The [Powerlifting Database](https://www.kaggle.com/open-powerlifting/powerlifting-database) dataset on Kaggle includes one CSV table for powerlifting meets and a separate one for powerlifting competitors. Run the cell below to load these datasets into dataframes:"
   ]
  },
  {
   "cell_type": "code",
   "execution_count": 10,
   "id": "2f2296b1",
   "metadata": {
    "execution": {
     "iopub.execute_input": "2024-04-18T04:17:49.369662Z",
     "iopub.status.busy": "2024-04-18T04:17:49.369086Z",
     "iopub.status.idle": "2024-04-18T04:17:50.404976Z",
     "shell.execute_reply": "2024-04-18T04:17:50.403650Z"
    },
    "papermill": {
     "duration": 1.049053,
     "end_time": "2024-04-18T04:17:50.407955",
     "exception": false,
     "start_time": "2024-04-18T04:17:49.358902",
     "status": "completed"
    },
    "tags": []
   },
   "outputs": [],
   "source": [
    "powerlifting_meets = pd.read_csv(\"../input/powerlifting-database/meets.csv\")\n",
    "powerlifting_competitors = pd.read_csv(\"../input/powerlifting-database/openpowerlifting.csv\")"
   ]
  },
  {
   "cell_type": "markdown",
   "id": "385ec4a5",
   "metadata": {
    "papermill": {
     "duration": 0.00928,
     "end_time": "2024-04-18T04:17:50.426998",
     "exception": false,
     "start_time": "2024-04-18T04:17:50.417718",
     "status": "completed"
    },
    "tags": []
   },
   "source": [
    "Both tables include references to a `MeetID`, a unique key for each meet (competition) included in the database. Using this, generate a dataset combining the two tables into one."
   ]
  },
  {
   "cell_type": "code",
   "execution_count": 11,
   "id": "bb6bcdf0",
   "metadata": {
    "execution": {
     "iopub.execute_input": "2024-04-18T04:17:50.447487Z",
     "iopub.status.busy": "2024-04-18T04:17:50.447051Z",
     "iopub.status.idle": "2024-04-18T04:17:51.865416Z",
     "shell.execute_reply": "2024-04-18T04:17:51.864271Z"
    },
    "papermill": {
     "duration": 1.431912,
     "end_time": "2024-04-18T04:17:51.868414",
     "exception": false,
     "start_time": "2024-04-18T04:17:50.436502",
     "status": "completed"
    },
    "tags": []
   },
   "outputs": [
    {
     "name": "stdout",
     "output_type": "stream",
     "text": [
      "        MeetID         MeetPath Federation        Date MeetCountry MeetState  \\\n",
      "0            0   365strong/1601  365Strong  2016-10-29         USA        NC   \n",
      "1            0   365strong/1601  365Strong  2016-10-29         USA        NC   \n",
      "2            0   365strong/1601  365Strong  2016-10-29         USA        NC   \n",
      "3            0   365strong/1601  365Strong  2016-10-29         USA        NC   \n",
      "4            0   365strong/1601  365Strong  2016-10-29         USA        NC   \n",
      "...        ...              ...        ...         ...         ...       ...   \n",
      "386409    8481  xpc/2017-finals        XPC  2017-03-03         USA        OH   \n",
      "386410    8481  xpc/2017-finals        XPC  2017-03-03         USA        OH   \n",
      "386411    8481  xpc/2017-finals        XPC  2017-03-03         USA        OH   \n",
      "386412    8481  xpc/2017-finals        XPC  2017-03-03         USA        OH   \n",
      "386413    8481  xpc/2017-finals        XPC  2017-03-03         USA        OH   \n",
      "\n",
      "         MeetTown                                           MeetName  \\\n",
      "0       Charlotte  2016 Junior & Senior National Powerlifting Cha...   \n",
      "1       Charlotte  2016 Junior & Senior National Powerlifting Cha...   \n",
      "2       Charlotte  2016 Junior & Senior National Powerlifting Cha...   \n",
      "3       Charlotte  2016 Junior & Senior National Powerlifting Cha...   \n",
      "4       Charlotte  2016 Junior & Senior National Powerlifting Cha...   \n",
      "...           ...                                                ...   \n",
      "386409   Columbus                                    2017 XPC Finals   \n",
      "386410   Columbus                                    2017 XPC Finals   \n",
      "386411   Columbus                                    2017 XPC Finals   \n",
      "386412   Columbus                                    2017 XPC Finals   \n",
      "386413   Columbus                                    2017 XPC Finals   \n",
      "\n",
      "                    Name Sex  ... WeightClassKg  Squat4Kg BestSquatKg  \\\n",
      "0       Angie Belk Terry   F  ...            60       NaN       47.63   \n",
      "1            Dawn Bogart   F  ...            60       NaN      142.88   \n",
      "2            Dawn Bogart   F  ...            60       NaN      142.88   \n",
      "3            Dawn Bogart   F  ...            60       NaN         NaN   \n",
      "4           Destiny Dula   F  ...          67.5       NaN         NaN   \n",
      "...                  ...  ..  ...           ...       ...         ...   \n",
      "386409   William Barabas   M  ...           125       NaN         NaN   \n",
      "386410      Justin Zottl   M  ...           125       NaN         NaN   \n",
      "386411     Jake Anderson   M  ...           125       NaN         NaN   \n",
      "386412    Jeff Bumanglag   M  ...           140       NaN         NaN   \n",
      "386413     Shane Hammock   M  ...           140       NaN         NaN   \n",
      "\n",
      "        Bench4Kg BestBenchKg  Deadlift4Kg  BestDeadliftKg  TotalKg  Place  \\\n",
      "0            NaN       20.41          NaN           70.31   138.35      1   \n",
      "1            NaN       95.25          NaN          163.29   401.42      1   \n",
      "2            NaN       95.25          NaN          163.29   401.42      1   \n",
      "3            NaN       95.25          NaN             NaN    95.25      1   \n",
      "4            NaN       31.75          NaN           90.72   122.47      1   \n",
      "...          ...         ...          ...             ...      ...    ...   \n",
      "386409       NaN         NaN          NaN          347.50   347.50      2   \n",
      "386410       NaN         NaN          NaN          322.50   322.50      3   \n",
      "386411       NaN         NaN          NaN          367.50   367.50      1   \n",
      "386412       NaN         NaN          NaN          320.00   320.00      3   \n",
      "386413       NaN         NaN          NaN          362.50   362.50      2   \n",
      "\n",
      "         Wilks  \n",
      "0       155.05  \n",
      "1       456.38  \n",
      "2       456.38  \n",
      "3       108.29  \n",
      "4       130.47  \n",
      "...        ...  \n",
      "386409  202.60  \n",
      "386410  185.77  \n",
      "386411  211.17  \n",
      "386412  181.85  \n",
      "386413  205.18  \n",
      "\n",
      "[386414 rows x 24 columns]\n"
     ]
    }
   ],
   "source": [
    "powerlifting_meets = pd.read_csv(\"../input/powerlifting-database/meets.csv\")\n",
    "powerlifting_competitors = pd.read_csv(\"../input/powerlifting-database/openpowerlifting.csv\")\n",
    "powerlifting_combined = powerlifting_meets.merge(powerlifting_competitors, on='MeetID', how='outer')\n",
    "\n",
    "print(powerlifting_combined)"
   ]
  },
  {
   "cell_type": "code",
   "execution_count": 12,
   "id": "1aa616c4",
   "metadata": {
    "execution": {
     "iopub.execute_input": "2024-04-18T04:17:51.890008Z",
     "iopub.status.busy": "2024-04-18T04:17:51.889635Z",
     "iopub.status.idle": "2024-04-18T04:17:51.894770Z",
     "shell.execute_reply": "2024-04-18T04:17:51.893485Z"
    },
    "papermill": {
     "duration": 0.019851,
     "end_time": "2024-04-18T04:17:51.897445",
     "exception": false,
     "start_time": "2024-04-18T04:17:51.877594",
     "status": "completed"
    },
    "tags": []
   },
   "outputs": [],
   "source": [
    "#q4.hint()\n",
    "#q4.solution()"
   ]
  },
  {
   "cell_type": "markdown",
   "id": "808e64c0",
   "metadata": {
    "papermill": {
     "duration": 0.008891,
     "end_time": "2024-04-18T04:17:51.915622",
     "exception": false,
     "start_time": "2024-04-18T04:17:51.906731",
     "status": "completed"
    },
    "tags": []
   },
   "source": [
    "# Congratulations!\n",
    "\n",
    "You've finished the Pandas micro-course.  Many data scientists feel efficiency with Pandas is the most useful and practical skill they have, because it allows you to progress quickly in any project you have.\n",
    "\n",
    "If you'd like to apply your new skills to examining geospatial data, you're encouraged to check out our **[Geospatial Analysis](https://www.kaggle.com/learn/geospatial-analysis)** micro-course.\n",
    "\n",
    "You can also take advantage of your Pandas skills by entering a **[Kaggle Competition](https://www.kaggle.com/competitions)** or by answering a question you find interesting using **[Kaggle Datasets](https://www.kaggle.com/datasets)**."
   ]
  },
  {
   "cell_type": "markdown",
   "id": "ee1395eb",
   "metadata": {
    "papermill": {
     "duration": 0.008757,
     "end_time": "2024-04-18T04:17:51.933583",
     "exception": false,
     "start_time": "2024-04-18T04:17:51.924826",
     "status": "completed"
    },
    "tags": []
   },
   "source": [
    "---\n",
    "\n",
    "\n",
    "\n",
    "\n",
    "*Have questions or comments? Visit the [course discussion forum](https://www.kaggle.com/learn/pandas/discussion) to chat with other learners.*"
   ]
  }
 ],
 "metadata": {
  "kaggle": {
   "accelerator": "none",
   "dataSources": [
    {
     "datasetId": 655,
     "sourceId": 1252,
     "sourceType": "datasetVersion"
    },
    {
     "datasetId": 2321,
     "sourceId": 3919,
     "sourceType": "datasetVersion"
    },
    {
     "datasetId": 2894,
     "sourceId": 4877,
     "sourceType": "datasetVersion"
    },
    {
     "datasetId": 3491,
     "sourceId": 5624,
     "sourceType": "datasetVersion"
    },
    {
     "datasetId": 1442,
     "sourceId": 8172,
     "sourceType": "datasetVersion"
    },
    {
     "datasetId": 9366,
     "sourceId": 13206,
     "sourceType": "datasetVersion"
    },
    {
     "datasetId": 179555,
     "sourceId": 403916,
     "sourceType": "datasetVersion"
    },
    {
     "datasetId": 4549,
     "sourceId": 466349,
     "sourceType": "datasetVersion"
    },
    {
     "datasetId": 2478,
     "sourceId": 1151655,
     "sourceType": "datasetVersion"
    },
    {
     "datasetId": 10128,
     "sourceId": 5438389,
     "sourceType": "datasetVersion"
    }
   ],
   "isGpuEnabled": false,
   "isInternetEnabled": false,
   "language": "python",
   "sourceType": "notebook"
  },
  "kernelspec": {
   "display_name": "Python 3",
   "language": "python",
   "name": "python3"
  },
  "language_info": {
   "codemirror_mode": {
    "name": "ipython",
    "version": 3
   },
   "file_extension": ".py",
   "mimetype": "text/x-python",
   "name": "python",
   "nbconvert_exporter": "python",
   "pygments_lexer": "ipython3",
   "version": "3.10.13"
  },
  "papermill": {
   "default_parameters": {},
   "duration": 16.776817,
   "end_time": "2024-04-18T04:17:52.665701",
   "environment_variables": {},
   "exception": null,
   "input_path": "__notebook__.ipynb",
   "output_path": "__notebook__.ipynb",
   "parameters": {},
   "start_time": "2024-04-18T04:17:35.888884",
   "version": "2.5.0"
  }
 },
 "nbformat": 4,
 "nbformat_minor": 5
}
