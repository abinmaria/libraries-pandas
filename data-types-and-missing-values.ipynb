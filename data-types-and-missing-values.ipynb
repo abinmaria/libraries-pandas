{
 "cells": [
  {
   "cell_type": "markdown",
   "id": "8cfa13c7",
   "metadata": {
    "papermill": {
     "duration": 0.006329,
     "end_time": "2024-04-18T03:46:42.792148",
     "exception": false,
     "start_time": "2024-04-18T03:46:42.785819",
     "status": "completed"
    },
    "tags": []
   },
   "source": [
    "**This notebook is an exercise in the [Pandas](https://www.kaggle.com/learn/pandas) course.  You can reference the tutorial at [this link](https://www.kaggle.com/residentmario/data-types-and-missing-values).**\n",
    "\n",
    "---\n"
   ]
  },
  {
   "cell_type": "markdown",
   "id": "a5fd1061",
   "metadata": {
    "papermill": {
     "duration": 0.005633,
     "end_time": "2024-04-18T03:46:42.804027",
     "exception": false,
     "start_time": "2024-04-18T03:46:42.798394",
     "status": "completed"
    },
    "tags": []
   },
   "source": [
    "# Introduction\n",
    "\n",
    "Run the following cell to load your data and some utility functions."
   ]
  },
  {
   "cell_type": "code",
   "execution_count": 1,
   "id": "9da4e9f7",
   "metadata": {
    "execution": {
     "iopub.execute_input": "2024-04-18T03:46:42.817666Z",
     "iopub.status.busy": "2024-04-18T03:46:42.817245Z",
     "iopub.status.idle": "2024-04-18T03:46:47.261223Z",
     "shell.execute_reply": "2024-04-18T03:46:47.260044Z"
    },
    "papermill": {
     "duration": 4.45422,
     "end_time": "2024-04-18T03:46:47.264113",
     "exception": false,
     "start_time": "2024-04-18T03:46:42.809893",
     "status": "completed"
    },
    "tags": []
   },
   "outputs": [
    {
     "name": "stdout",
     "output_type": "stream",
     "text": [
      "Setup complete.\n"
     ]
    }
   ],
   "source": [
    "import pandas as pd\n",
    "\n",
    "reviews = pd.read_csv(\"../input/wine-reviews/winemag-data-130k-v2.csv\", index_col=0)\n",
    "\n",
    "from learntools.core import binder; binder.bind(globals())\n",
    "from learntools.pandas.data_types_and_missing_data import *\n",
    "print(\"Setup complete.\")"
   ]
  },
  {
   "cell_type": "markdown",
   "id": "657da1e3",
   "metadata": {
    "papermill": {
     "duration": 0.006254,
     "end_time": "2024-04-18T03:46:47.276897",
     "exception": false,
     "start_time": "2024-04-18T03:46:47.270643",
     "status": "completed"
    },
    "tags": []
   },
   "source": [
    "# Exercises"
   ]
  },
  {
   "cell_type": "markdown",
   "id": "2d3bd34c",
   "metadata": {
    "papermill": {
     "duration": 0.006022,
     "end_time": "2024-04-18T03:46:47.289775",
     "exception": false,
     "start_time": "2024-04-18T03:46:47.283753",
     "status": "completed"
    },
    "tags": []
   },
   "source": [
    "## 1. \n",
    "What is the data type of the `points` column in the dataset?"
   ]
  },
  {
   "cell_type": "code",
   "execution_count": 2,
   "id": "ea7cc37b",
   "metadata": {
    "execution": {
     "iopub.execute_input": "2024-04-18T03:46:47.304552Z",
     "iopub.status.busy": "2024-04-18T03:46:47.303829Z",
     "iopub.status.idle": "2024-04-18T03:46:48.618170Z",
     "shell.execute_reply": "2024-04-18T03:46:48.616578Z"
    },
    "papermill": {
     "duration": 1.325716,
     "end_time": "2024-04-18T03:46:48.621751",
     "exception": false,
     "start_time": "2024-04-18T03:46:47.296035",
     "status": "completed"
    },
    "tags": []
   },
   "outputs": [
    {
     "name": "stdout",
     "output_type": "stream",
     "text": [
      "int64\n"
     ]
    }
   ],
   "source": [
    "# Your code here\n",
    "import pandas as pd\n",
    "\n",
    "reviews = pd.read_csv(\"../input/wine-reviews/winemag-data-130k-v2.csv\", index_col=0)\n",
    "\n",
    "dtype = reviews.points.dtype\n",
    "print(dtype)"
   ]
  },
  {
   "cell_type": "code",
   "execution_count": 3,
   "id": "4e3af1cd",
   "metadata": {
    "execution": {
     "iopub.execute_input": "2024-04-18T03:46:48.641761Z",
     "iopub.status.busy": "2024-04-18T03:46:48.639885Z",
     "iopub.status.idle": "2024-04-18T03:46:48.646120Z",
     "shell.execute_reply": "2024-04-18T03:46:48.645195Z"
    },
    "papermill": {
     "duration": 0.018718,
     "end_time": "2024-04-18T03:46:48.649893",
     "exception": false,
     "start_time": "2024-04-18T03:46:48.631175",
     "status": "completed"
    },
    "tags": []
   },
   "outputs": [],
   "source": [
    "#q1.hint()\n",
    "#q1.solution()"
   ]
  },
  {
   "cell_type": "markdown",
   "id": "e2eed8d3",
   "metadata": {
    "papermill": {
     "duration": 0.009116,
     "end_time": "2024-04-18T03:46:48.668763",
     "exception": false,
     "start_time": "2024-04-18T03:46:48.659647",
     "status": "completed"
    },
    "tags": []
   },
   "source": [
    "## 2. \n",
    "Create a Series from entries in the `points` column, but convert the entries to strings. Hint: strings are `str` in native Python."
   ]
  },
  {
   "cell_type": "code",
   "execution_count": 4,
   "id": "6359feeb",
   "metadata": {
    "execution": {
     "iopub.execute_input": "2024-04-18T03:46:48.685615Z",
     "iopub.status.busy": "2024-04-18T03:46:48.684747Z",
     "iopub.status.idle": "2024-04-18T03:46:50.037506Z",
     "shell.execute_reply": "2024-04-18T03:46:50.035952Z"
    },
    "papermill": {
     "duration": 1.364219,
     "end_time": "2024-04-18T03:46:50.040650",
     "exception": false,
     "start_time": "2024-04-18T03:46:48.676431",
     "status": "completed"
    },
    "tags": []
   },
   "outputs": [
    {
     "name": "stdout",
     "output_type": "stream",
     "text": [
      "0         87\n",
      "1         87\n",
      "2         87\n",
      "3         87\n",
      "4         87\n",
      "          ..\n",
      "129966    90\n",
      "129967    90\n",
      "129968    90\n",
      "129969    90\n",
      "129970    90\n",
      "Name: points, Length: 129971, dtype: object\n"
     ]
    }
   ],
   "source": [
    "import pandas as pd\n",
    "\n",
    "reviews = pd.read_csv(\"../input/wine-reviews/winemag-data-130k-v2.csv\", index_col=0)\n",
    "\n",
    "point_strings = reviews.points.astype('str')\n",
    "print(point_strings)"
   ]
  },
  {
   "cell_type": "code",
   "execution_count": 5,
   "id": "fdade568",
   "metadata": {
    "execution": {
     "iopub.execute_input": "2024-04-18T03:46:50.056310Z",
     "iopub.status.busy": "2024-04-18T03:46:50.055890Z",
     "iopub.status.idle": "2024-04-18T03:46:50.060883Z",
     "shell.execute_reply": "2024-04-18T03:46:50.059512Z"
    },
    "papermill": {
     "duration": 0.016302,
     "end_time": "2024-04-18T03:46:50.063565",
     "exception": false,
     "start_time": "2024-04-18T03:46:50.047263",
     "status": "completed"
    },
    "tags": []
   },
   "outputs": [],
   "source": [
    "#q2.hint()\n",
    "#q2.solution()"
   ]
  },
  {
   "cell_type": "markdown",
   "id": "7189cb96",
   "metadata": {
    "papermill": {
     "duration": 0.006257,
     "end_time": "2024-04-18T03:46:50.076581",
     "exception": false,
     "start_time": "2024-04-18T03:46:50.070324",
     "status": "completed"
    },
    "tags": []
   },
   "source": [
    "## 3.\n",
    "Sometimes the price column is null. How many reviews in the dataset are missing a price?"
   ]
  },
  {
   "cell_type": "code",
   "execution_count": 6,
   "id": "398e1cc9",
   "metadata": {
    "execution": {
     "iopub.execute_input": "2024-04-18T03:46:50.092818Z",
     "iopub.status.busy": "2024-04-18T03:46:50.092030Z",
     "iopub.status.idle": "2024-04-18T03:46:51.427042Z",
     "shell.execute_reply": "2024-04-18T03:46:51.425833Z"
    },
    "papermill": {
     "duration": 1.347344,
     "end_time": "2024-04-18T03:46:51.430577",
     "exception": false,
     "start_time": "2024-04-18T03:46:50.083233",
     "status": "completed"
    },
    "tags": []
   },
   "outputs": [
    {
     "name": "stdout",
     "output_type": "stream",
     "text": [
      "         country                                        description  \\\n",
      "0          Italy  Aromas include tropical fruit, broom, brimston...   \n",
      "13         Italy  This is dominated by oak and oak-driven aromas...   \n",
      "30        France  Red cherry fruit comes laced with light tannin...   \n",
      "31         Italy  Merlot and Nero d'Avola form the base for this...   \n",
      "32         Italy  Part of the extended Calanìca series, this Gri...   \n",
      "...          ...                                                ...   \n",
      "129844     Italy  Doga delle Clavule is a neutral, mineral-drive...   \n",
      "129860  Portugal  This rich wine has a firm structure as well as...   \n",
      "129863  Portugal  This mature wine that has 50% Touriga Nacional...   \n",
      "129893     Italy  Aromas of passion fruit, hay and a vegetal not...   \n",
      "129964    France  Initially quite muted, this wine slowly develo...   \n",
      "\n",
      "                         designation  points  price           province  \\\n",
      "0                       Vulkà Bianco      87    NaN  Sicily & Sardinia   \n",
      "13                             Rosso      87    NaN  Sicily & Sardinia   \n",
      "30                           Nouveau      86    NaN         Beaujolais   \n",
      "31      Calanìca Nero d'Avola-Merlot      86    NaN  Sicily & Sardinia   \n",
      "32          Calanìca Grillo-Viognier      86    NaN  Sicily & Sardinia   \n",
      "...                              ...     ...    ...                ...   \n",
      "129844            Doga delle Clavule      86    NaN            Tuscany   \n",
      "129860              Pacheca Superior      90    NaN              Douro   \n",
      "129863                       Reserva      90    NaN                Dão   \n",
      "129893                  Corte Menini      91    NaN             Veneto   \n",
      "129964  Domaine Saint-Rémy Herrenweg      90    NaN             Alsace   \n",
      "\n",
      "                     region_1 region_2    taster_name taster_twitter_handle  \\\n",
      "0                        Etna      NaN  Kerin O’Keefe          @kerinokeefe   \n",
      "13                       Etna      NaN  Kerin O’Keefe          @kerinokeefe   \n",
      "30        Beaujolais-Villages      NaN     Roger Voss            @vossroger   \n",
      "31                    Sicilia      NaN            NaN                   NaN   \n",
      "32                    Sicilia      NaN            NaN                   NaN   \n",
      "...                       ...      ...            ...                   ...   \n",
      "129844  Morellino di Scansano      NaN            NaN                   NaN   \n",
      "129860                    NaN      NaN     Roger Voss            @vossroger   \n",
      "129863                    NaN      NaN     Roger Voss            @vossroger   \n",
      "129893         Soave Classico      NaN  Kerin O’Keefe          @kerinokeefe   \n",
      "129964                 Alsace      NaN     Roger Voss            @vossroger   \n",
      "\n",
      "                                                    title            variety  \\\n",
      "0                       Nicosia 2013 Vulkà Bianco  (Etna)        White Blend   \n",
      "13                 Masseria Setteporte 2012 Rosso  (Etna)  Nerello Mascalese   \n",
      "30      Domaine de la Madone 2012 Nouveau  (Beaujolais...              Gamay   \n",
      "31      Duca di Salaparuta 2010 Calanìca Nero d'Avola-...          Red Blend   \n",
      "32      Duca di Salaparuta 2011 Calanìca Grillo-Viogni...        White Blend   \n",
      "...                                                   ...                ...   \n",
      "129844  Caparzo 2006 Doga delle Clavule  (Morellino di...         Sangiovese   \n",
      "129860  Quinta da Pacheca 2013 Pacheca Superior Red (D...     Portuguese Red   \n",
      "129863                    Seacampo 2011 Reserva Red (Dão)     Portuguese Red   \n",
      "129893   Le Mandolare 2015 Corte Menini  (Soave Classico)          Garganega   \n",
      "129964  Domaine Ehrhart 2013 Domaine Saint-Rémy Herren...     Gewürztraminer   \n",
      "\n",
      "                      winery  \n",
      "0                    Nicosia  \n",
      "13       Masseria Setteporte  \n",
      "30      Domaine de la Madone  \n",
      "31        Duca di Salaparuta  \n",
      "32        Duca di Salaparuta  \n",
      "...                      ...  \n",
      "129844               Caparzo  \n",
      "129860     Quinta da Pacheca  \n",
      "129863              Seacampo  \n",
      "129893          Le Mandolare  \n",
      "129964       Domaine Ehrhart  \n",
      "\n",
      "[8996 rows x 13 columns]\n"
     ]
    }
   ],
   "source": [
    "import pandas as pd\n",
    "\n",
    "reviews = pd.read_csv(\"../input/wine-reviews/winemag-data-130k-v2.csv\", index_col=0)\n",
    "n_missing_prices = reviews[pd.isnull(reviews.price)]\n",
    "print(n_missing_prices)"
   ]
  },
  {
   "cell_type": "code",
   "execution_count": 7,
   "id": "48faf01c",
   "metadata": {
    "execution": {
     "iopub.execute_input": "2024-04-18T03:46:51.446218Z",
     "iopub.status.busy": "2024-04-18T03:46:51.445801Z",
     "iopub.status.idle": "2024-04-18T03:46:51.450412Z",
     "shell.execute_reply": "2024-04-18T03:46:51.449030Z"
    },
    "papermill": {
     "duration": 0.015398,
     "end_time": "2024-04-18T03:46:51.452808",
     "exception": false,
     "start_time": "2024-04-18T03:46:51.437410",
     "status": "completed"
    },
    "tags": []
   },
   "outputs": [],
   "source": [
    "#q3.hint()\n",
    "#q3.solution()"
   ]
  },
  {
   "cell_type": "markdown",
   "id": "00499754",
   "metadata": {
    "papermill": {
     "duration": 0.006633,
     "end_time": "2024-04-18T03:46:51.467378",
     "exception": false,
     "start_time": "2024-04-18T03:46:51.460745",
     "status": "completed"
    },
    "tags": []
   },
   "source": [
    "## 4.\n",
    "What are the most common wine-producing regions? Create a Series counting the number of times each value occurs in the `region_1` field. This field is often missing data, so replace missing values with `Unknown`. Sort in descending order.  Your output should look something like this:\n",
    "\n",
    "```\n",
    "Unknown                    21247\n",
    "Napa Valley                 4480\n",
    "                           ...  \n",
    "Bardolino Superiore            1\n",
    "Primitivo del Tarantino        1\n",
    "Name: region_1, Length: 1230, dtype: int64\n",
    "```"
   ]
  },
  {
   "cell_type": "code",
   "execution_count": 8,
   "id": "4e82decb",
   "metadata": {
    "execution": {
     "iopub.execute_input": "2024-04-18T03:46:51.484558Z",
     "iopub.status.busy": "2024-04-18T03:46:51.483389Z",
     "iopub.status.idle": "2024-04-18T03:46:52.807441Z",
     "shell.execute_reply": "2024-04-18T03:46:52.806222Z"
    },
    "papermill": {
     "duration": 1.335669,
     "end_time": "2024-04-18T03:46:52.810351",
     "exception": false,
     "start_time": "2024-04-18T03:46:51.474682",
     "status": "completed"
    },
    "tags": []
   },
   "outputs": [
    {
     "name": "stdout",
     "output_type": "stream",
     "text": [
      "region_1\n",
      "Unknown                 21247\n",
      "Napa Valley              4480\n",
      "Columbia Valley (WA)     4124\n",
      "Russian River Valley     3091\n",
      "California               2629\n",
      "                        ...  \n",
      "Offida Rosso                1\n",
      "Corton Perrières            1\n",
      "Isle St. George             1\n",
      "Geelong                     1\n",
      "Paestum                     1\n",
      "Name: count, Length: 1230, dtype: int64\n"
     ]
    }
   ],
   "source": [
    "\n",
    "import pandas as pd\n",
    "\n",
    "reviews = pd.read_csv(\"../input/wine-reviews/winemag-data-130k-v2.csv\")\n",
    "\n",
    "reviews['region_1'] = reviews['region_1'].fillna('Unknown')\n",
    "region_counts = reviews['region_1'].value_counts().sort_values(ascending=False)\n",
    "\n",
    "print(region_counts)"
   ]
  },
  {
   "cell_type": "code",
   "execution_count": 9,
   "id": "d6e9cd4e",
   "metadata": {
    "execution": {
     "iopub.execute_input": "2024-04-18T03:46:52.826420Z",
     "iopub.status.busy": "2024-04-18T03:46:52.826004Z",
     "iopub.status.idle": "2024-04-18T03:46:52.831298Z",
     "shell.execute_reply": "2024-04-18T03:46:52.829787Z"
    },
    "papermill": {
     "duration": 0.016469,
     "end_time": "2024-04-18T03:46:52.833995",
     "exception": false,
     "start_time": "2024-04-18T03:46:52.817526",
     "status": "completed"
    },
    "tags": []
   },
   "outputs": [],
   "source": [
    "#q4.hint()\n",
    "#q4.solution()"
   ]
  },
  {
   "cell_type": "markdown",
   "id": "41b99299",
   "metadata": {
    "papermill": {
     "duration": 0.006972,
     "end_time": "2024-04-18T03:46:52.849051",
     "exception": false,
     "start_time": "2024-04-18T03:46:52.842079",
     "status": "completed"
    },
    "tags": []
   },
   "source": [
    "# Keep going\n",
    "\n",
    "Move on to **[renaming and combining](https://www.kaggle.com/residentmario/renaming-and-combining)**."
   ]
  },
  {
   "cell_type": "markdown",
   "id": "2f10e93a",
   "metadata": {
    "papermill": {
     "duration": 0.007511,
     "end_time": "2024-04-18T03:46:52.863996",
     "exception": false,
     "start_time": "2024-04-18T03:46:52.856485",
     "status": "completed"
    },
    "tags": []
   },
   "source": [
    "---\n",
    "\n",
    "\n",
    "\n",
    "\n",
    "*Have questions or comments? Visit the [course discussion forum](https://www.kaggle.com/learn/pandas/discussion) to chat with other learners.*"
   ]
  }
 ],
 "metadata": {
  "kaggle": {
   "accelerator": "none",
   "dataSources": [
    {
     "datasetId": 655,
     "sourceId": 1252,
     "sourceType": "datasetVersion"
    },
    {
     "datasetId": 2321,
     "sourceId": 3919,
     "sourceType": "datasetVersion"
    },
    {
     "datasetId": 2894,
     "sourceId": 4877,
     "sourceType": "datasetVersion"
    },
    {
     "datasetId": 3491,
     "sourceId": 5624,
     "sourceType": "datasetVersion"
    },
    {
     "datasetId": 1442,
     "sourceId": 8172,
     "sourceType": "datasetVersion"
    },
    {
     "datasetId": 9366,
     "sourceId": 13206,
     "sourceType": "datasetVersion"
    },
    {
     "datasetId": 179555,
     "sourceId": 403916,
     "sourceType": "datasetVersion"
    },
    {
     "datasetId": 4549,
     "sourceId": 466349,
     "sourceType": "datasetVersion"
    },
    {
     "datasetId": 2478,
     "sourceId": 1151655,
     "sourceType": "datasetVersion"
    },
    {
     "datasetId": 10128,
     "sourceId": 5438389,
     "sourceType": "datasetVersion"
    }
   ],
   "isGpuEnabled": false,
   "isInternetEnabled": false,
   "language": "python",
   "sourceType": "notebook"
  },
  "kernelspec": {
   "display_name": "Python 3",
   "language": "python",
   "name": "python3"
  },
  "language_info": {
   "codemirror_mode": {
    "name": "ipython",
    "version": 3
   },
   "file_extension": ".py",
   "mimetype": "text/x-python",
   "name": "python",
   "nbconvert_exporter": "python",
   "pygments_lexer": "ipython3",
   "version": "3.10.13"
  },
  "papermill": {
   "default_parameters": {},
   "duration": 14.013668,
   "end_time": "2024-04-18T03:46:53.493824",
   "environment_variables": {},
   "exception": null,
   "input_path": "__notebook__.ipynb",
   "output_path": "__notebook__.ipynb",
   "parameters": {},
   "start_time": "2024-04-18T03:46:39.480156",
   "version": "2.5.0"
  }
 },
 "nbformat": 4,
 "nbformat_minor": 5
}
